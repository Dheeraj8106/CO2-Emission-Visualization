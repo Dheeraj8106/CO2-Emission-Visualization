{
  "cells": [
    {
      "cell_type": "code",
      "source": [
        "# all the datasets are preprocessed in the same process"
      ],
      "metadata": {
        "id": "gO62Zwso5aNN"
      },
      "execution_count": null,
      "outputs": []
    },
    {
      "cell_type": "code",
      "source": [
        "import pandas as pd\n",
        "import numpy as np\n",
        "\n",
        "\n",
        "data = pd.read_csv(\"ozone-depleting-substance-consumption.csv\")\n",
        "\t\n",
        "df = pd.DataFrame(data)\n",
        "\n",
        "print(df)\n"
      ],
      "metadata": {
        "id": "Rq7S78EwVZIQ",
        "outputId": "1546a879-dd82-42c0-d842-272552188862",
        "colab": {
          "base_uri": "https://localhost:8080/"
        }
      },
      "execution_count": null,
      "outputs": [
        {
          "output_type": "stream",
          "name": "stdout",
          "text": [
            "           Entity Code  Year  \\\n",
            "0     Afghanistan  AFG  1989   \n",
            "1     Afghanistan  AFG  1998   \n",
            "2     Afghanistan  AFG  1999   \n",
            "3     Afghanistan  AFG  2000   \n",
            "4     Afghanistan  AFG  2004   \n",
            "...           ...  ...   ...   \n",
            "4728     Zimbabwe  ZWE  2011   \n",
            "4729     Zimbabwe  ZWE  2012   \n",
            "4730     Zimbabwe  ZWE  2013   \n",
            "4731     Zimbabwe  ZWE  2014   \n",
            "4732     Zimbabwe  ZWE  1991   \n",
            "\n",
            "      Consumption of Ozone-Depleting Substances - Methyl Chloroform  \\\n",
            "0                                                   0.0               \n",
            "1                                                   0.0               \n",
            "2                                                   0.0               \n",
            "3                                                   0.0               \n",
            "4                                                   0.0               \n",
            "...                                                 ...               \n",
            "4728                                                0.0               \n",
            "4729                                                0.0               \n",
            "4730                                                0.0               \n",
            "4731                                                0.0               \n",
            "4732                                                NaN               \n",
            "\n",
            "      Consumption of Ozone-Depleting Substances - Methyl Bromide  \\\n",
            "0                                                   NaN            \n",
            "1                                                   0.0            \n",
            "2                                                   NaN            \n",
            "3                                                   NaN            \n",
            "4                                                   0.0            \n",
            "...                                                 ...            \n",
            "4728                                                2.4            \n",
            "4729                                                0.0            \n",
            "4730                                                0.0            \n",
            "4731                                                0.0            \n",
            "4732                                              390.0            \n",
            "\n",
            "      Consumption of Ozone-Depleting Substances - Hydrochlorofluorocarbons (HCFCs)  \\\n",
            "0                                                  0.00                              \n",
            "1                                                   NaN                              \n",
            "2                                                   NaN                              \n",
            "3                                                   NaN                              \n",
            "4                                                  3.20                              \n",
            "...                                                 ...                              \n",
            "4728                                              19.82                              \n",
            "4729                                              16.20                              \n",
            "4730                                              15.76                              \n",
            "4731                                              13.32                              \n",
            "4732                                                NaN                              \n",
            "\n",
            "      Consumption of Ozone-Depleting Substances - Carbon Tetrachloride  \\\n",
            "0                                                   0.9                  \n",
            "1                                                   0.9                  \n",
            "2                                                   0.9                  \n",
            "3                                                   0.9                  \n",
            "4                                                   0.3                  \n",
            "...                                                 ...                  \n",
            "4728                                                0.0                  \n",
            "4729                                                0.0                  \n",
            "4730                                                0.0                  \n",
            "4731                                                0.0                  \n",
            "4732                                                NaN                  \n",
            "\n",
            "      Consumption of Ozone-Depleting Substances - Halons  \\\n",
            "0                                                   NaN    \n",
            "1                                                   NaN    \n",
            "2                                                   NaN    \n",
            "3                                                   NaN    \n",
            "4                                                   0.1    \n",
            "...                                                 ...    \n",
            "4728                                                0.0    \n",
            "4729                                                0.0    \n",
            "4730                                                0.0    \n",
            "4731                                                0.0    \n",
            "4732                                                NaN    \n",
            "\n",
            "      Consumption of Ozone-Depleting Substances - Chlorofluorocarbons (CFCs)  \n",
            "0                                                   NaN                       \n",
            "1                                                   NaN                       \n",
            "2                                                   NaN                       \n",
            "3                                                   NaN                       \n",
            "4                                                 177.9                       \n",
            "...                                                 ...                       \n",
            "4728                                                0.0                       \n",
            "4729                                                0.0                       \n",
            "4730                                                0.0                       \n",
            "4731                                                0.0                       \n",
            "4732                                                NaN                       \n",
            "\n",
            "[4733 rows x 9 columns]\n"
          ]
        }
      ]
    },
    {
      "cell_type": "code",
      "source": [
        "dtt = df.fillna(pd.DataFrame(np.random.random(df.shape),\n",
        "                            index=df.index, columns=df.columns))\n"
      ],
      "metadata": {
        "id": "v2AIAVPqV3AX"
      },
      "execution_count": null,
      "outputs": []
    },
    {
      "cell_type": "code",
      "source": [
        "dtt.to_csv('edited_ozone-depleting-substance-consumption.csv')\n"
      ],
      "metadata": {
        "id": "cbXdsGlEV6Z-"
      },
      "execution_count": null,
      "outputs": []
    },
    {
      "cell_type": "code",
      "source": [
        "df.isna().sum().sum()"
      ],
      "metadata": {
        "id": "GdrqDnHuWb7n",
        "outputId": "2cd22156-11b0-41e2-9b82-05cdae70cb64",
        "colab": {
          "base_uri": "https://localhost:8080/",
          "height": 165
        }
      },
      "execution_count": 1,
      "outputs": [
        {
          "output_type": "error",
          "ename": "NameError",
          "evalue": "ignored",
          "traceback": [
            "\u001b[0;31m---------------------------------------------------------------------------\u001b[0m",
            "\u001b[0;31mNameError\u001b[0m                                 Traceback (most recent call last)",
            "\u001b[0;32m<ipython-input-1-694810f37ef0>\u001b[0m in \u001b[0;36m<module>\u001b[0;34m\u001b[0m\n\u001b[0;32m----> 1\u001b[0;31m \u001b[0mdf\u001b[0m\u001b[0;34m.\u001b[0m\u001b[0misna\u001b[0m\u001b[0;34m(\u001b[0m\u001b[0;34m)\u001b[0m\u001b[0;34m.\u001b[0m\u001b[0msum\u001b[0m\u001b[0;34m(\u001b[0m\u001b[0;34m)\u001b[0m\u001b[0;34m.\u001b[0m\u001b[0msum\u001b[0m\u001b[0;34m(\u001b[0m\u001b[0;34m)\u001b[0m\u001b[0;34m\u001b[0m\u001b[0;34m\u001b[0m\u001b[0m\n\u001b[0m",
            "\u001b[0;31mNameError\u001b[0m: name 'df' is not defined"
          ]
        }
      ]
    }
  ],
  "metadata": {
    "colab": {
      "provenance": []
    },
    "kernelspec": {
      "display_name": "Python 3",
      "name": "python3"
    }
  },
  "nbformat": 4,
  "nbformat_minor": 0
}